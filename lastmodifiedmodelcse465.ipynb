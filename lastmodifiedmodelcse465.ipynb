{
  "cells": [
    {
      "cell_type": "markdown",
      "metadata": {
        "id": "view-in-github",
        "colab_type": "text"
      },
      "source": [
        "<a href=\"https://colab.research.google.com/github/kashimmirza/AI_in_Medicine_Clinical_Imaging_Classification/blob/master/lastmodifiedmodelcse465.ipynb\" target=\"_parent\"><img src=\"https://colab.research.google.com/assets/colab-badge.svg\" alt=\"Open In Colab\"/></a>"
      ]
    },
    {
      "cell_type": "code",
      "execution_count": 47,
      "metadata": {
        "colab": {
          "base_uri": "https://localhost:8080/"
        },
        "id": "gQPvjM_hoOwq",
        "outputId": "dea0ce75-23af-4899-d574-c852828809d3"
      },
      "outputs": [
        {
          "output_type": "stream",
          "name": "stdout",
          "text": [
            "Drive already mounted at /content/drive; to attempt to forcibly remount, call drive.mount(\"/content/drive\", force_remount=True).\n"
          ]
        }
      ],
      "source": [
        "from google.colab import drive\n",
        "drive.mount('/content/drive')"
      ]
    },
    {
      "cell_type": "code",
      "execution_count": 48,
      "metadata": {
        "id": "Q6SFa8QALr4s"
      },
      "outputs": [],
      "source": [
        "import torch\n",
        "import torchvision\n",
        "import torchvision.transforms as transforms\n",
        "import torchvision.datasets as datasets\n",
        "import torch.nn.functional as F\n",
        "import torch.nn as nn\n",
        "import torch.optim as optim\n",
        "import os\n",
        "import matplotlib.pyplot as plt\n",
        "from torch.optim.lr_scheduler import StepLR\n",
        "import numpy as np\n",
        "from datetime import datetime\n",
        "import pandas as pd\n",
        "import random \n",
        "from torchvision.datasets import ImageFolder\n",
        "import re\n",
        "from torch.utils.data import Dataset, DataLoader\n",
        "import matplotlib.pyplot as plt\n",
        "from PIL import Image\n",
        "from torch.optim.lr_scheduler import StepLR\n",
        "from sklearn.metrics import roc_auc_score\n",
        "from skimage.io import imread, imsave\n",
        "import skimage\n",
        "from PIL import ImageFile\n",
        "from PIL import Image\n",
        "\n",
        "torch.cuda.empty_cache()"
      ]
    },
    {
      "cell_type": "code",
      "execution_count": 49,
      "metadata": {
        "colab": {
          "base_uri": "https://localhost:8080/"
        },
        "id": "aZx3XYhsWJiJ",
        "outputId": "3eea4204-8a72-464f-909d-affbefbdff5d"
      },
      "outputs": [
        {
          "output_type": "stream",
          "name": "stdout",
          "text": [
            "Requirement already satisfied: wheel in /usr/local/lib/python3.7/dist-packages (0.37.0)\n"
          ]
        }
      ],
      "source": [
        "# install pytorch (http://pytorch.org/) if run from Google Colaboratory\n",
        "!pip install wheel\n",
        "import sys\n",
        "if 'google.colab' in sys.modules and 'torch' not in sys.modules:\n",
        "    from os.path import exists\n",
        "    from wheel.pep425tags import get_abbr_impl, get_impl_ver, get_abi_tag\n",
        "    platform = '{}{}-{}'.format(get_abbr_impl(), get_impl_ver(), get_abi_tag())\n",
        "    cuda_output = !ldconfig -p|grep cudart.so|sed -e 's/.*\\.\\([0-9]*\\)\\.\\([0-9]*\\)$/cu\\1\\2/'\n",
        "    accelerator = cuda_output[0] if exists('/dev/nvidia0') else 'cpu'\n",
        "\n",
        "    !pip3 install https://download.pytorch.org/whl/{accelerator}/torch-1.1.0-{platform}-linux_x86_64.whl\n",
        "    !pip3 install https://download.pytorch.org/whl/{accelerator}/torchvision-0.3.0-{platform}-linux_x86_64.whl\n",
        "\n",
        "%matplotlib inline\n",
        "import os\n",
        "\n",
        "import torch\n",
        "import torch.nn as nn\n",
        "import torch.nn.functional as F"
      ]
    },
    {
      "cell_type": "code",
      "execution_count": 50,
      "metadata": {
        "id": "hSgPB8_FXAAZ"
      },
      "outputs": [],
      "source": [
        "# 2-d latent space, parameter count in same order of magnitude\n",
        "# as in the original VAE paper (VAE paper has about 3x as many)\n",
        "latent_dims = 2\n",
        "num_epochs = 100\n",
        "batch_size = 128\n",
        "capacity = 64\n",
        "learning_rate = 1e-3\n",
        "variational_beta = 1\n",
        "use_gpu = True"
      ]
    },
    {
      "cell_type": "code",
      "execution_count": 51,
      "metadata": {
        "id": "zwTFoU_RM2XO",
        "colab": {
          "base_uri": "https://localhost:8080/"
        },
        "outputId": "592258dc-e37c-4d4c-e8e5-b14d9b15f2e1"
      },
      "outputs": [
        {
          "output_type": "stream",
          "name": "stdout",
          "text": [
            "<class 'torchvision.transforms.transforms.Compose'>\n",
            "['AutoAugment', 'AutoAugmentPolicy', 'CenterCrop', 'ColorJitter', 'Compose', 'ConvertImageDtype', 'FiveCrop', 'GaussianBlur', 'Grayscale', 'InterpolationMode', 'Lambda', 'LinearTransformation', 'Normalize', 'PILToTensor', 'Pad', 'RandAugment', 'RandomAdjustSharpness', 'RandomAffine', 'RandomApply', 'RandomAutocontrast', 'RandomChoice', 'RandomCrop', 'RandomEqualize', 'RandomErasing', 'RandomGrayscale', 'RandomHorizontalFlip', 'RandomInvert', 'RandomOrder', 'RandomPerspective', 'RandomPosterize', 'RandomResizedCrop', 'RandomRotation', 'RandomSizedCrop', 'RandomSolarize', 'RandomVerticalFlip', 'Resize', 'Scale', 'TenCrop', 'ToPILImage', 'ToTensor', 'TrivialAugmentWide', '__builtins__', '__cached__', '__doc__', '__file__', '__loader__', '__name__', '__package__', '__path__', '__spec__', 'autoaugment', 'functional', 'functional_pil', 'functional_tensor', 'transforms']\n"
          ]
        }
      ],
      "source": [
        "# normalize = transforms.Normalize(mean=[0.485, 0.456, 0.406], std=[0.229, 0.224, 0.225])\n",
        "\n",
        "########## Mean and std are calculated from the train dataset\n",
        "normalize = transforms.Normalize(mean=[0.45271412, 0.45271412, 0.45271412],\n",
        "                                     std=[0.33165374, 0.33165374, 0.33165374])\n",
        "train_transformer = transforms.Compose([\n",
        "    transforms.Resize(256),\n",
        "    transforms.RandomResizedCrop((224),scale=(0.5,1.0)),\n",
        "    transforms.RandomHorizontalFlip(),\n",
        "#     transforms.RandomRotation(90),\n",
        "    # random brightness and random contrast\n",
        "    transforms.ColorJitter(brightness=0.2, contrast=0.2),\n",
        "    transforms.ToTensor(),\n",
        "    normalize\n",
        "])\n",
        "print(type(train_transformer))\n",
        "print(dir(transforms))\n",
        "\n",
        "\n",
        "val_transformer = transforms.Compose([\n",
        "#     transforms.Resize(224),\n",
        "#     transforms.CenterCrop(224),\n",
        "    transforms.Resize((224,224)),\n",
        "    transforms.ToTensor(),\n",
        "    normalize\n",
        "])\n",
        "\n",
        "test_transformer = transforms.Compose([\n",
        "#     transforms.Resize(224),\n",
        "#     transforms.CenterCrop(224),\n",
        "    transforms.Resize((224,224)),\n",
        "    transforms.ToTensor(),\n",
        "    normalize\n",
        "])"
      ]
    },
    {
      "cell_type": "code",
      "execution_count": 52,
      "metadata": {
        "colab": {
          "base_uri": "https://localhost:8080/",
          "height": 36
        },
        "id": "FQ5-SO0fs6jL",
        "outputId": "6ddb78cd-6401-4233-8fde-820da0944638"
      },
      "outputs": [
        {
          "output_type": "execute_result",
          "data": {
            "application/vnd.google.colaboratory.intrinsic+json": {
              "type": "string"
            },
            "text/plain": [
              "'/content/drive/MyDrive/colab note books/datasets/'"
            ]
          },
          "metadata": {},
          "execution_count": 52
        }
      ],
      "source": [
        "'/content/drive/MyDrive/colab note books/datasets/'"
      ]
    },
    {
      "cell_type": "code",
      "execution_count": 53,
      "metadata": {
        "id": "ALORnod-OdQE"
      },
      "outputs": [],
      "source": [
        "# Make a directory to store the data.\n",
        "import zipfile\n",
        "DATASET_ZIP_DIR = '/content/drive/MyDrive/colab note books/datasets/new_data/4.4image/CT_COVID.zip'\n",
        "DATASET_ZIP_DIR1 = '/content/drive/MyDrive/colab note books/datasets/new_data/4.4image/CT_NonCOVID.zip'\n",
        "\n",
        "# Unzip data in the newly created directory.\n",
        "with zipfile.ZipFile(DATASET_ZIP_DIR, \"r\") as z_fp:\n",
        "    z_fp.extractall(\"/content/drive/MyDrive/colab note books/datasets/new_data/4.4image/CTIMAGE\")\n",
        "\n",
        "# Unzip data in the newly created directory.\n",
        "with zipfile.ZipFile(DATASET_ZIP_DIR1, \"r\") as z_fp:\n",
        "    z_fp.extractall(\"/content/drive/MyDrive/colab note books/datasets/new_data/4.4image/CTIMAGE\")\n",
        "\n"
      ]
    },
    {
      "cell_type": "code",
      "execution_count": 53,
      "metadata": {
        "id": "5UbQf9VtcF59"
      },
      "outputs": [],
      "source": [
        ""
      ]
    },
    {
      "cell_type": "code",
      "execution_count": 53,
      "metadata": {
        "id": "cfy7Cb5Vcdqe"
      },
      "outputs": [],
      "source": [
        ""
      ]
    },
    {
      "cell_type": "code",
      "execution_count": 54,
      "metadata": {
        "colab": {
          "base_uri": "https://localhost:8080/"
        },
        "id": "t0ojhsVgLCMj",
        "outputId": "dcbe4dda-edd2-466d-d58c-49213f49b788"
      },
      "outputs": [
        {
          "output_type": "stream",
          "name": "stdout",
          "text": [
            "425\n",
            "118\n",
            "203\n"
          ]
        }
      ],
      "source": [
        "batchsize=4\n",
        "def read_txt(txt_path):\n",
        "    with open(txt_path) as f:\n",
        "        lines = f.readlines()\n",
        "    txt_data = [line.strip() for line in lines]\n",
        "    return txt_data\n",
        "\n",
        "class CovidCTDataset(Dataset):\n",
        "    def __init__(self, root_dir, txt_COVID, txt_NonCOVID, transform=False):\n",
        "        \"\"\"\n",
        "        Args:\n",
        "            txt_path (string): Path to the txt file with annotations.\n",
        "            root_dir (string): Directory with all the images.\n",
        "            transform (callable, optional): Optional transform to be applied\n",
        "                on a sample.\n",
        "        File structure:\n",
        "        - root_dir\n",
        "            - CT_COVID\n",
        "                - img1.png\n",
        "                - img2.png\n",
        "                - ......\n",
        "            - CT_NonCOVID\n",
        "                - img1.png\n",
        "                - img2.png\n",
        "                - ......\n",
        "        \"\"\"\n",
        "        self.root_dir = root_dir\n",
        "        self.txt_path = [txt_COVID,txt_NonCOVID]\n",
        "        self.classes = ['CT_COVID', 'CT_NonCOVID']\n",
        "        self.num_cls = len(self.classes)\n",
        "        self.img_list = []\n",
        "        for c in range(self.num_cls):\n",
        "            cls_list = [[os.path.join(self.root_dir,self.classes[c],item), c] for item in read_txt(self.txt_path[c])]\n",
        "            self.img_list += cls_list\n",
        "        self.transform = transform\n",
        "\n",
        "    def __len__(self):\n",
        "        return len(self.img_list)\n",
        "\n",
        "    def __getitem__(self, idx):\n",
        "        if torch.is_tensor(idx):\n",
        "            idx = idx.tolist()\n",
        "\n",
        "        img_path = self.img_list[idx][0]\n",
        "        image = Image.open(img_path).convert('RGB')\n",
        "\n",
        "        if self.transform:\n",
        "            image = self.transform(image)\n",
        "        sample = {'img': image,\n",
        "                  'label': int(self.img_list[idx][1])}\n",
        "        return sample\n",
        "\n",
        "\n",
        "\n",
        "    \n",
        "if __name__ == '__main__':\n",
        "    trainset = CovidCTDataset(root_dir='/content/drive/MyDrive/colab note books/datasets/new_data/4.4image/CTIMAGE',\n",
        "                              txt_COVID='/content/drive/MyDrive/colab note books/datasets/new_data/new_txt/train.txt',\n",
        "                              txt_NonCOVID='/content/drive/MyDrive/colab note books/datasets/old_data/old_txt/trainctnoncovid.txt',\n",
        "                              transform= train_transformer)\n",
        "    valset = CovidCTDataset(root_dir='/content/drive/MyDrive/colab note books/datasets/new_data/4.4image/CTIMAGE',\n",
        "                              txt_COVID='/content/drive/MyDrive/colab note books/datasets/new_data/new_txt/val.txt',\n",
        "                              txt_NonCOVID='/content/drive/MyDrive/colab note books/datasets/old_data/old_txt/valctnoncovid.txt',\n",
        "                              transform= val_transformer)\n",
        "    testset = CovidCTDataset(root_dir='/content/drive/MyDrive/colab note books/datasets/new_data/4.4image/CTIMAGE',\n",
        "                              txt_COVID='/content/drive/MyDrive/colab note books/datasets/new_data/new_txt/testct_covid.txt',\n",
        "                              txt_NonCOVID='/content/drive/MyDrive/colab note books/datasets/old_data/old_txt/testct_noncovid.txt',\n",
        "                              transform= test_transformer)\n",
        "    print(trainset.__len__())\n",
        "    print(valset.__len__())\n",
        "    print(testset.__len__())\n",
        "\n",
        "    train_loader = DataLoader(trainset, batch_size=batchsize, drop_last=False, shuffle=True)\n",
        "    val_loader = DataLoader(valset, batch_size=batchsize, drop_last=False, shuffle=False)\n",
        "    test_loader = DataLoader(testset, batch_size=batchsize, drop_last=False, shuffle=False)"
      ]
    },
    {
      "cell_type": "code",
      "execution_count": 55,
      "metadata": {
        "colab": {
          "base_uri": "https://localhost:8080/",
          "height": 315
        },
        "id": "1v9IbvQSo4ev",
        "outputId": "c0007bce-4135-4213-e5b7-d4e264a69057"
      },
      "outputs": [
        {
          "output_type": "execute_result",
          "data": {
            "text/plain": [
              "torch.Tensor"
            ]
          },
          "metadata": {},
          "execution_count": 55
        },
        {
          "output_type": "display_data",
          "data": {
            "image/png": "[encoded data removed]",
            "text/plain": [
              "<Figure size 432x288 with 2 Axes>"
            ]
          },
          "metadata": {
            "needs_background": "light"
          }
        }
      ],
      "source": [
        "for batch_index, batch_samples in enumerate(train_loader):      \n",
        "        data, target = batch_samples['img'], batch_samples['label']\n",
        "skimage.io.imshow(data[0,1,:,:].numpy())\n",
        "data.shape\n",
        "type(data)"
      ]
    },
    {
      "cell_type": "code",
      "source": [
        "#simple cnn model\n",
        "import torch\n",
        "import torch.nn as nn\n",
        "# from torchvision.models.utils import load_state_dict_from_url\n",
        "\n",
        "\n",
        "class CNN(nn.Module):\n",
        "\n",
        "    def __init__(self, num_classes=1000, init_weights=True):\n",
        "        super(CNN, self).__init__()\n",
        "        self.features = nn.Sequential(\n",
        "            nn.Conv2d(3, 64, kernel_size=3, padding=1),\n",
        "            nn.ReLU(True)\n",
        "        )\n",
        "        self.avgpool = nn.AdaptiveAvgPool2d((1, 1))\n",
        "        self.classifier = nn.Sequential(\n",
        "            nn.Linear(64, num_classes),\n",
        "        )\n",
        "\n",
        "    def forward(self, x):\n",
        "        x = self.features(x)\n",
        "        x = self.avgpool(x)\n",
        "        x = torch.flatten(x, 1)\n",
        "        x = self.classifier(x)\n",
        "        return x\n",
        "\n",
        "\n",
        "class Linear(nn.Module):\n",
        "\n",
        "    def __init__(self, num_classes=1000, init_weights=True):\n",
        "        super(Linear, self).__init__()\n",
        "\n",
        "        self.classifier = nn.Sequential(\n",
        "            nn.Linear(224*224*3, num_classes),\n",
        "        )\n",
        "\n",
        "    def forward(self, x):\n",
        "\n",
        "        x = torch.flatten(x, 1)\n",
        "        x = self.classifier(x)\n",
        "        return x\n",
        "\n",
        "class MLP(nn.Module):\n",
        "\n",
        "    def __init__(self, num_classes=1000, init_weights=True):\n",
        "        super(MLP, self).__init__()\n",
        "\n",
        "        self.classifier = nn.Sequential(\n",
        "            nn.Linear(224*224*3, 64),\n",
        "            nn.ReLU(inplace=True),\n",
        "            nn.Linear(64,num_classes)\n",
        "        )\n",
        "\n",
        "    def forward(self, x):\n",
        "\n",
        "        x = torch.flatten(x, 1)\n",
        "        x = self.classifier(x)\n",
        "        return x\n",
        "\n",
        "\n",
        "class SimpleCNN(torch.nn.Module):\n",
        "    def __init__(self,num_classes=1000,):\n",
        "        super(SimpleCNN, self).__init__()  # b, 3, 32, 32\n",
        "        layer1 = torch.nn.Sequential()\n",
        "        layer1.add_module('conv1', torch.nn.Conv2d(3, 32, 3, 1, padding=1))\n",
        "\n",
        "        layer1.add_module('relu1', torch.nn.ReLU(True))\n",
        "        layer1.add_module('pool1', torch.nn.MaxPool2d(2, 2))\n",
        "        self.layer1 = layer1\n",
        "\n",
        "        layer3 = torch.nn.Sequential()\n",
        "        layer3.add_module('fc1', torch.nn.Linear(401408, num_classes))\n",
        "        self.layer3 = layer3\n",
        "\n",
        "    def forward(self, x):\n",
        "        conv1 = self.layer1(x)\n",
        "        fc_input = conv1.view(conv1.size(0), -1)\n",
        "        fc_out = self.layer3(fc_input)\n",
        "        return fc_out"
      ],
      "metadata": {
        "id": "OUJIIrCIbph_"
      },
      "execution_count": 56,
      "outputs": []
    },
    {
      "cell_type": "code",
      "execution_count": 57,
      "metadata": {
        "id": "6ynDOiiDIOl1"
      },
      "outputs": [],
      "source": [
        "import torch\n",
        "import torch.nn as nn\n",
        "import torch.nn.functional as F"
      ]
    },
    {
      "cell_type": "code",
      "execution_count": 58,
      "metadata": {
        "id": "myWpS2M1IdrL"
      },
      "outputs": [],
      "source": [
        "features = 16\n",
        "# define a simple linear VAE\n",
        "class LinearVAE(nn.Module):\n",
        "    def __init__(self):\n",
        "        super(LinearVAE, self).__init__()\n",
        " \n",
        "        # encoder\n",
        "        self.enc1 = nn.Linear(in_features=784, out_features=512)\n",
        "        self.enc2 = nn.Linear(in_features=512, out_features=features*2)\n",
        " \n",
        "        # decoder \n",
        "        self.dec1 = nn.Linear(in_features=features, out_features=512)\n",
        "        self.dec2 = nn.Linear(in_features=512, out_features=784)\n",
        "    def reparameterize(self, mu, log_var):\n",
        "        \"\"\"\n",
        "        :param mu: mean from the encoder's latent space\n",
        "        :param log_var: log variance from the encoder's latent space\n",
        "        \"\"\"\n",
        "        std = torch.exp(0.5*log_var) # standard deviation\n",
        "        eps = torch.randn_like(std) # `randn_like` as we need the same size\n",
        "        sample = mu + (eps * std) # sampling as if coming from the input space\n",
        "        return sample\n",
        " \n",
        "    def forward(self, x):\n",
        "        # encoding\n",
        "        x = F.relu(self.enc1(x))\n",
        "        x = self.enc2(x).view(-1, 2, features)\n",
        "        # get `mu` and `log_var`\n",
        "        mu = x[:, 0, :] # the first feature values as mean\n",
        "        log_var = x[:, 1, :] # the other feature values as variance\n",
        "        # get the latent vector through reparameterization\n",
        "        z = self.reparameterize(mu, log_var)\n",
        " \n",
        "        # decoding\n",
        "        x = F.relu(self.dec1(z))\n",
        "        reconstruction = torch.sigmoid(self.dec2(x))\n",
        "        return reconstruction, mu, log_var"
      ]
    },
    {
      "cell_type": "code",
      "execution_count": 59,
      "metadata": {
        "id": "aw10dqecIkIE"
      },
      "outputs": [],
      "source": [
        "import torch\n",
        "import torchvision\n",
        "import torch.optim as optim\n",
        "import argparse\n",
        "import matplotlib\n",
        "import torch.nn as nn\n",
        "import matplotlib.pyplot as plt\n",
        "import torchvision.transforms as transforms\n",
        "\n",
        "from tqdm import tqdm\n",
        "from torchvision import datasets\n",
        "from torch.utils.data import DataLoader\n",
        "from torchvision.utils import save_image\n",
        "matplotlib.style.use('ggplot')"
      ]
    },
    {
      "cell_type": "code",
      "execution_count": 60,
      "metadata": {
        "id": "-FpAYBe0IZXc"
      },
      "outputs": [],
      "source": [
        "import torch\n",
        "import torch.nn as nn\n",
        "import torch.nn.functional as F"
      ]
    },
    {
      "cell_type": "code",
      "execution_count": 61,
      "metadata": {
        "id": "fsKFBuNgv7_5"
      },
      "outputs": [],
      "source": [
        "def vae_loss(output, input, mean, logvar, loss_func):\n",
        "    recon_loss = loss_func(output, input)\n",
        "    kl_loss = torch.mean(0.5 * torch.sum(\n",
        "        torch.exp(logvar) + mean**2 - 1. - logvar, 1))\n",
        "    return recon_loss + kl_loss"
      ]
    },
    {
      "cell_type": "code",
      "execution_count": 62,
      "metadata": {
        "id": "-qEYsl35v_7H"
      },
      "outputs": [],
      "source": [
        "class VAE(nn.Module):\n",
        "    def __init__(self, in_shape, n_latent):\n",
        "        super().__init__()\n",
        "        self.in_shape = in_shape\n",
        "        self.n_latent = n_latent\n",
        "        c,h,w = in_shape\n",
        "        self.z_dim = h//2**2 # receptive field downsampled 2 times\n",
        "        self.encoder = nn.Sequential(\n",
        "            nn.BatchNorm2d(c),\n",
        "            nn.Conv2d(c, 32, kernel_size=4, stride=2, padding=1),  # 32, 16, 16\n",
        "            nn.BatchNorm2d(32),\n",
        "            nn.LeakyReLU(),\n",
        "            nn.Conv2d(32, 64, kernel_size=4, stride=2, padding=1),  # 32, 8, 8\n",
        "            nn.BatchNorm2d(64),\n",
        "            nn.LeakyReLU(),\n",
        "        )\n",
        "        self.z_mean = nn.Linear(64 * self.z_dim**2, n_latent)\n",
        "        self.z_var = nn.Linear(64 * self.z_dim**2, n_latent)\n",
        "        self.z_develop = nn.Linear(n_latent, 64 * self.z_dim**2)\n",
        "        self.decoder = nn.Sequential(\n",
        "            nn.ConvTranspose2d(64, 32, kernel_size=3, stride=2, padding=0),\n",
        "            nn.BatchNorm2d(32),\n",
        "            nn.ReLU(),\n",
        "            nn.ConvTranspose2d(32, 1, kernel_size=3, stride=2, padding=1),\n",
        "            CenterCrop(h,w),\n",
        "            nn.Sigmoid()\n",
        "        )\n",
        "\n",
        "    def sample_z(self, mean, logvar):\n",
        "        stddev = torch.exp(0.5 * logvar)\n",
        "        noise = Variable(torch.randn(stddev.size()))\n",
        "        return (noise * stddev) + mean\n",
        "\n",
        "    def encode(self, x):\n",
        "        x = self.encoder(x)\n",
        "        x = x.view(x.size(0), -1)\n",
        "        mean = self.z_mean(x)\n",
        "        var = self.z_var(x)\n",
        "        return mean, var\n",
        "\n",
        "    def decode(self, z):\n",
        "        out = self.z_develop(z)\n",
        "        out = out.view(z.size(0), 64, self.z_dim, self.z_dim)\n",
        "        out = self.decoder(out)\n",
        "        return out\n",
        "\n",
        "    def forward(self, x):\n",
        "        mean, logvar = self.encode(x)\n",
        "        z = self.sample_z(mean, logvar)\n",
        "        out = self.decode(z)\n",
        "        return out, mean, logvar\n",
        "    "
      ]
    },
    {
      "cell_type": "code",
      "source": [
        "import torch\n",
        "import torchvision\n",
        "import torch.optim as optim\n",
        "import argparse\n",
        "import matplotlib\n",
        "import torch.nn as nn\n",
        "import matplotlib.pyplot as plt\n",
        "import torchvision.transforms as transforms\n",
        "\n",
        "from tqdm import tqdm\n",
        "from torchvision import datasets\n",
        "from torch.utils.data import DataLoader\n",
        "from torchvision.utils import save_image\n",
        "matplotlib.style.use('ggplot')"
      ],
      "metadata": {
        "id": "-vhEH1GXOfSc"
      },
      "execution_count": 63,
      "outputs": []
    },
    {
      "cell_type": "code",
      "source": [
        "\n",
        "#optimizer = optim.Adam(model.parameters(), lr=lr)\n",
        "#criterion = nn.BCELoss(reduction='sum')"
      ],
      "metadata": {
        "id": "ANUQ40pyNtfc"
      },
      "execution_count": 64,
      "outputs": []
    },
    {
      "cell_type": "code",
      "source": [
        "def final_loss(bce_loss, mu, logvar):\n",
        "    \"\"\"\n",
        "    This function will add the reconstruction loss (BCELoss) and the \n",
        "    KL-Divergence.\n",
        "    KL-Divergence = 0.5 * sum(1 + log(sigma^2) - mu^2 - sigma^2)\n",
        "    :param bce_loss: recontruction loss\n",
        "    :param mu: the mean from the latent vector\n",
        "    :param logvar: log variance from the latent vector\n",
        "    \"\"\"\n",
        "    BCE = bce_loss \n",
        "    KLD = -0.5 * torch.sum(1 + logvar - mu.pow(2) - logvar.exp())\n",
        "    return BCE + KLD"
      ],
      "metadata": {
        "id": "120Z9O2iPmxq"
      },
      "execution_count": 65,
      "outputs": []
    },
    {
      "cell_type": "code",
      "source": [
        "def fit(model, dataloader):\n",
        "    model.train()\n",
        "    running_loss = 0.0\n",
        "    for i, data in tqdm(enumerate(dataloader), total=int(len(train_data)/dataloader.batch_size)):\n",
        "        data, _ = data\n",
        "        data = data.to(device)\n",
        "        data = data.view(data.size(0), -1)\n",
        "        optimizer.zero_grad()\n",
        "        reconstruction, mu, logvar = model(data)\n",
        "        bce_loss = criterion(reconstruction, data)\n",
        "        loss = final_loss(bce_loss, mu, logvar)\n",
        "        running_loss += loss.item()\n",
        "        loss.backward()\n",
        "        optimizer.step()\n",
        "    train_loss = running_loss/len(dataloader.dataset)\n",
        "    return train_loss"
      ],
      "metadata": {
        "id": "6Y1HBxfUPzYz"
      },
      "execution_count": 66,
      "outputs": []
    },
    {
      "cell_type": "code",
      "source": [
        "def validate(model, dataloader):\n",
        "    model.eval()\n",
        "    running_loss = 0.0\n",
        "    with torch.no_grad():\n",
        "        for i, data in tqdm(enumerate(dataloader), total=int(len(val_data)/dataloader.batch_size)):\n",
        "            data, _ = data\n",
        "            data = data.to(device)\n",
        "            data = data.view(data.size(0), -1)\n",
        "            reconstruction, mu, logvar = model(data)\n",
        "            bce_loss = criterion(reconstruction, data)\n",
        "            loss = final_loss(bce_loss, mu, logvar)\n",
        "            running_loss += loss.item()\n",
        "        \n",
        "            # save the last batch input and output of every epoch\n",
        "            if i == int(len(val_data)/dataloader.batch_size) - 1:\n",
        "                num_rows = 8\n",
        "                both = torch.cat((data.view(batch_size, 1, 28, 28)[:8], \n",
        "                                  reconstruction.view(batch_size, 1, 28, 28)[:8]))\n",
        "                save_image(both.cpu(), f\"../outputs/output{epoch}.png\", nrow=num_rows)\n",
        "    val_loss = running_loss/len(dataloader.dataset)\n",
        "    return val_loss"
      ],
      "metadata": {
        "id": "Uf4K9TZQP1d7"
      },
      "execution_count": 67,
      "outputs": []
    },
    {
      "cell_type": "code",
      "source": [
        "train_loss = []\n",
        "val_loss = []\n",
        "for epoch in range(epochs):\n",
        "    print(f\"Epoch {epoch+1} of {epochs}\")\n",
        "    train_epoch_loss = fit(model, train_loader)\n",
        "    val_epoch_loss = validate(model, val_loader)\n",
        "    train_loss.append(train_epoch_loss)\n",
        "    val_loss.append(val_epoch_loss)\n",
        "    print(f\"Train Loss: {train_epoch_loss:.4f}\")\n",
        "    print(f\"Val Loss: {val_epoch_loss:.4f}\")"
      ],
      "metadata": {
        "colab": {
          "base_uri": "https://localhost:8080/",
          "height": 245
        },
        "id": "XuTrAn7_Uoky",
        "outputId": "2e531f1d-54d2-4e7d-894b-7c7c52614c0c"
      },
      "execution_count": 68,
      "outputs": [
        {
          "output_type": "error",
          "ename": "NameError",
          "evalue": "ignored",
          "traceback": [
            "\u001b[0;31m---------------------------------------------------------------------------\u001b[0m",
            "\u001b[0;31mNameError\u001b[0m                                 Traceback (most recent call last)",
            "\u001b[0;32m<ipython-input-68-dedf68413fc5>\u001b[0m in \u001b[0;36m<module>\u001b[0;34m()\u001b[0m\n\u001b[1;32m      1\u001b[0m \u001b[0mtrain_loss\u001b[0m \u001b[0;34m=\u001b[0m \u001b[0;34m[\u001b[0m\u001b[0;34m]\u001b[0m\u001b[0;34m\u001b[0m\u001b[0;34m\u001b[0m\u001b[0m\n\u001b[1;32m      2\u001b[0m \u001b[0mval_loss\u001b[0m \u001b[0;34m=\u001b[0m \u001b[0;34m[\u001b[0m\u001b[0;34m]\u001b[0m\u001b[0;34m\u001b[0m\u001b[0;34m\u001b[0m\u001b[0m\n\u001b[0;32m----> 3\u001b[0;31m \u001b[0;32mfor\u001b[0m \u001b[0mepoch\u001b[0m \u001b[0;32min\u001b[0m \u001b[0mrange\u001b[0m\u001b[0;34m(\u001b[0m\u001b[0mepochs\u001b[0m\u001b[0;34m)\u001b[0m\u001b[0;34m:\u001b[0m\u001b[0;34m\u001b[0m\u001b[0;34m\u001b[0m\u001b[0m\n\u001b[0m\u001b[1;32m      4\u001b[0m     \u001b[0mprint\u001b[0m\u001b[0;34m(\u001b[0m\u001b[0;34mf\"Epoch {epoch+1} of {epochs}\"\u001b[0m\u001b[0;34m)\u001b[0m\u001b[0;34m\u001b[0m\u001b[0;34m\u001b[0m\u001b[0m\n\u001b[1;32m      5\u001b[0m     \u001b[0mtrain_epoch_loss\u001b[0m \u001b[0;34m=\u001b[0m \u001b[0mfit\u001b[0m\u001b[0;34m(\u001b[0m\u001b[0mmodel\u001b[0m\u001b[0;34m,\u001b[0m \u001b[0mtrain_loader\u001b[0m\u001b[0;34m)\u001b[0m\u001b[0;34m\u001b[0m\u001b[0;34m\u001b[0m\u001b[0m\n",
            "\u001b[0;31mNameError\u001b[0m: name 'epochs' is not defined"
          ]
        }
      ]
    },
    {
      "cell_type": "code",
      "execution_count": null,
      "metadata": {
        "id": "iAIwYTTlwEDv"
      },
      "outputs": [],
      "source": [
        "\n",
        "def train(model, loader, loss_func, optimizer):\n",
        "    model.train()\n",
        "    for inputs, _ in loader:\n",
        "        inputs = Variable(inputs)\n",
        "\n",
        "        output, mean, logvar = model(inputs)\n",
        "        loss = vae_loss(output, inputs, mean, logvar, loss_func)\n",
        "\n",
        "        optimizer.zero_grad()\n",
        "        loss.backward()\n",
        "        optimizer.step()"
      ]
    },
    {
      "cell_type": "code",
      "execution_count": null,
      "metadata": {
        "id": "DrF9pwE2A9it"
      },
      "outputs": [],
      "source": [
        "class VAE(nn.Module):\n",
        "    def __init__(self):\n",
        "        super().__init__()\n",
        "\n",
        "        self.encoder = nn.Sequential(\n",
        "            nn.Linear(784, d ** 2),\n",
        "            nn.ReLU(),\n",
        "            nn.Linear(d ** 2, d * 2)\n",
        "        )\n",
        "\n",
        "        self.decoder = nn.Sequential(\n",
        "            nn.Linear(d, d ** 2),\n",
        "            nn.ReLU(),\n",
        "            nn.Linear(d ** 2, 784),\n",
        "            nn.Sigmoid(),\n",
        "        )"
      ]
    },
    {
      "cell_type": "code",
      "execution_count": null,
      "metadata": {
        "id": "G3bmKPmTA-9k"
      },
      "outputs": [],
      "source": [
        "def reparameterise(self, mu, logvar):\n",
        "    if self.training:\n",
        "        std = logvar.mul(0.5).exp_()\n",
        "        eps = std.data.new(std.size()).normal_()\n",
        "        return eps.mul(std).add_(mu)\n",
        "    else:\n",
        "        return mu\n",
        "\n",
        "def forward(self, x):\n",
        "    mu_logvar = self.encoder(x.view(-1, 784)).view(-1, 2, d)\n",
        "    mu = mu_logvar[:, 0, :]\n",
        "    logvar = mu_logvar[:, 1, :]\n",
        "    z = self.reparameterise(mu, logvar)\n",
        "    return self.decoder(z), mu, logvar"
      ]
    },
    {
      "cell_type": "code",
      "execution_count": null,
      "metadata": {
        "id": "JZwSlT3vBQ5E"
      },
      "outputs": [],
      "source": [
        "def loss_function(x_hat, x, mu, logvar):\n",
        "    BCE = nn.functional.binary_cross_entropy(\n",
        "        x_hat, x.view(-1, 784), reduction='sum'\n",
        "    )\n",
        "    KLD = 0.5 * torch.sum(logvar.exp() - logvar - 1 + mu.pow(2))\n",
        "\n",
        "    return BCE + KLD"
      ]
    },
    {
      "cell_type": "code",
      "source": [
        "def train(optimizer, epoch, floodlevel = 0):\n",
        "    \n",
        "    model.train()\n",
        "    \n",
        "    train_loss = 0\n",
        "    train_correct = 0\n",
        "    \n",
        "    for batch_index, batch_samples in enumerate(train_loader):\n",
        "        \n",
        "        # move data to device\n",
        "        data, target = batch_samples['img'].to(device), batch_samples['label'].to(device)\n",
        "        \n",
        "        output = model(data)\n",
        "        \n",
        "        criteria = nn.CrossEntropyLoss()\n",
        "        loss = criteria(output, target.long())\n",
        "        \n",
        "        # add flooding\n",
        "        loss = (loss-floodlevel).abs() + floodlevel\n",
        "        \n",
        "#         print(loss)\n",
        "        \n",
        "        train_loss += loss\n",
        "        \n",
        "        optimizer.zero_grad()\n",
        "        loss.backward()\n",
        "        optimizer.step()\n",
        "        \n",
        "        pred = output.argmax(dim=1, keepdim=True)\n",
        "        train_correct += pred.eq(target.long().view_as(pred)).sum().item()\n",
        "    \n",
        "    print('Epoch: {} Train set: Average loss: {:.4f}, Accuracy: {}/{} ({:.0f}%)'.format(epoch,\n",
        "        train_loss/np.ceil(len(train_loader.dataset)/batch_size), train_correct, len(train_loader.dataset),\n",
        "        100.0 * train_correct / len(train_loader.dataset)))"
      ],
      "metadata": {
        "id": "zDNIJD4dt-Rq"
      },
      "execution_count": 77,
      "outputs": []
    },
    {
      "cell_type": "code",
      "source": [
        "def val():\n",
        "    \n",
        "    model.train()\n",
        "    \n",
        "    val_loss = 0\n",
        "    val_correct = 0\n",
        "    \n",
        "    for batch_index, batch_samples in enumerate(val_loader):\n",
        "        \n",
        "        with torch.no_grad():\n",
        "        \n",
        "            # move data to device\n",
        "            data, target = batch_samples['img'].to(device), batch_samples['label'].to(device)\n",
        "\n",
        "            output = model(data)\n",
        "            pred = output.argmax(dim=1, keepdim=True)\n",
        "            \n",
        "            criteria = nn.CrossEntropyLoss()\n",
        "            loss = criteria(output, target.long())\n",
        "            val_loss += loss\n",
        "            \n",
        "            val_correct += pred.eq(target.long().view_as(pred)).sum().item()\n",
        "    \n",
        "    print('\\tVal set: Average loss: {:.4f}, Accuracy: {}/{} ({:.0f}%)'.format(\n",
        "        val_loss/np.ceil(len(val_loader.dataset)/batch_size), val_correct, len(val_loader.dataset),\n",
        "        100.0 * val_correct / len(val_loader.dataset)))"
      ],
      "metadata": {
        "id": "lSAAY0ph0JHG"
      },
      "execution_count": 78,
      "outputs": []
    },
    {
      "cell_type": "code",
      "execution_count": 79,
      "metadata": {
        "id": "cavTELS3sGHi"
      },
      "outputs": [],
      "source": [
        "def predict():\n",
        "    \n",
        "    model.eval()\n",
        "    criteria = nn.CrossEntropyLoss()\n",
        "    # Don't update model\n",
        "    with torch.no_grad():\n",
        "        \n",
        "        indexlist = []\n",
        "        labellist = []\n",
        "\n",
        "        # Predict\n",
        "        for batch_index, batch_samples in enumerate(test_loader):\n",
        "            data, index = batch_samples['img'].to(device), batch_samples['index'].cpu().numpy()\n",
        "            \n",
        "            output = model(data)\n",
        "            \n",
        "            pred = output.argmax(dim=1, keepdim=True).cpu().squeeze().numpy()\n",
        "            labellist.extend(list(pred))\n",
        "            indexlist.extend(list(index))\n",
        "           \n",
        "    return indexlist, labellist"
      ]
    },
    {
      "cell_type": "code",
      "execution_count": 72,
      "metadata": {
        "id": "T_AoySOGo5Si"
      },
      "outputs": [],
      "source": [
        "### ResNet50\n",
        "import torchvision.models as models\n",
        "model = models.resnet50(pretrained=True).to(device)\n",
        "modelname = 'ResNet50'"
      ]
    },
    {
      "cell_type": "code",
      "execution_count": null,
      "metadata": {
        "id": "z21_Mb8DomOr"
      },
      "outputs": [],
      "source": [
        "# ResNet18\n",
        "import torchvision.models as models\n",
        "model = models.resnet18(pretrained=True).to(device)\n",
        "modelname = 'ResNet18'"
      ]
    },
    {
      "cell_type": "code",
      "source": [
        "# Adjust hyperparameters here\n",
        "l2_loss = 0.01\n",
        "floodlevel = 0.01\n",
        "lr = .0001\n",
        "n_epochs = 50 # number of epochs to train for\n",
        "batch_size = 32 # batch size for training, validation and test data loaders\n",
        "lr = 0.0001 # Learning rate for Adam\n",
        "val_prop = 0.2 # proportion of training images to be used as validation\n",
        "val_iter = 10 # number of epochs before testing validation set\n",
        "\n",
        "optimizer = optim.Adam(model.parameters(), lr=lr, weight_decay = l2_loss)\n",
        "\n",
        "# Initial validation set loss (to verify model is training from scratch)\n",
        "val()\n",
        "for epoch in range(n_epochs):\n",
        "    train(optimizer, epoch,floodlevel)\n",
        "    if epoch%val_iter == 9:\n",
        "        val()"
      ],
      "metadata": {
        "colab": {
          "base_uri": "https://localhost:8080/"
        },
        "id": "0qFY4vWrvRHR",
        "outputId": "fb03c62b-468c-485a-b628-7432d86d007a"
      },
      "execution_count": null,
      "outputs": [
        {
          "output_type": "stream",
          "name": "stdout",
          "text": [
            "\tVal set: Average loss: 63.0135, Accuracy: 0/118 (0%)\n",
            "Epoch: 0 Train set: Average loss: 18.5480, Accuracy: 260/425 (61%)\n",
            "Epoch: 1 Train set: Average loss: 4.1256, Accuracy: 333/425 (78%)\n",
            "Epoch: 2 Train set: Average loss: 3.8671, Accuracy: 334/425 (79%)\n",
            "Epoch: 3 Train set: Average loss: 3.2881, Accuracy: 349/425 (82%)\n",
            "Epoch: 4 Train set: Average loss: 2.8494, Accuracy: 370/425 (87%)\n",
            "Epoch: 5 Train set: Average loss: 2.9606, Accuracy: 355/425 (84%)\n",
            "Epoch: 6 Train set: Average loss: 3.0213, Accuracy: 350/425 (82%)\n",
            "Epoch: 7 Train set: Average loss: 2.7895, Accuracy: 357/425 (84%)\n",
            "Epoch: 8 Train set: Average loss: 2.4564, Accuracy: 370/425 (87%)\n",
            "Epoch: 9 Train set: Average loss: 2.3465, Accuracy: 376/425 (88%)\n",
            "\tVal set: Average loss: 9.3082, Accuracy: 61/118 (52%)\n",
            "Epoch: 10 Train set: Average loss: 2.4965, Accuracy: 368/425 (87%)\n",
            "Epoch: 11 Train set: Average loss: 2.7814, Accuracy: 370/425 (87%)\n",
            "Epoch: 12 Train set: Average loss: 2.3400, Accuracy: 374/425 (88%)\n",
            "Epoch: 13 Train set: Average loss: 1.7992, Accuracy: 387/425 (91%)\n",
            "Epoch: 14 Train set: Average loss: 1.8200, Accuracy: 380/425 (89%)\n",
            "Epoch: 15 Train set: Average loss: 2.0346, Accuracy: 378/425 (89%)\n",
            "Epoch: 16 Train set: Average loss: 2.1798, Accuracy: 369/425 (87%)\n",
            "Epoch: 17 Train set: Average loss: 1.3461, Accuracy: 401/425 (94%)\n",
            "Epoch: 18 Train set: Average loss: 2.4424, Accuracy: 370/425 (87%)\n",
            "Epoch: 19 Train set: Average loss: 1.9134, Accuracy: 386/425 (91%)\n",
            "\tVal set: Average loss: 8.0770, Accuracy: 66/118 (56%)\n"
          ]
        }
      ]
    },
    {
      "cell_type": "code",
      "execution_count": null,
      "metadata": {
        "id": "chADz1LYpEVa"
      },
      "outputs": [],
      "source": [
        ""
      ]
    },
    {
      "cell_type": "code",
      "execution_count": null,
      "metadata": {
        "id": "lle4j4Ty6NHs"
      },
      "outputs": [],
      "source": [
        "from keras import backend as K\n",
        "from keras.preprocessing.image import ImageDataGenerator,load_img, img_to_array\n",
        "from keras.models import Sequential, Model\n",
        "from keras.layers import Conv2D, MaxPooling2D,GlobalAveragePooling2D\n",
        "from keras.layers import Activation, Dropout, BatchNormalization, Flatten, Dense, AvgPool2D,MaxPool2D , Lambda\n",
        "from keras.models import Sequential, Model\n",
        "from keras.applications.vgg16 import VGG16, preprocess_input\n",
        "!pip install keras.optimizers\n",
        "from tensorflow.keras.optimizers import Adam, SGD, RMSprop\n",
        "from sklearn.metrics import confusion_matrix\n",
        "import tensorflow as tf\n",
        "import os\n",
        "import numpy as np\n",
        "import pandas as pd\n",
        "import matplotlib.pyplot as plt\n",
        "%matplotlib inline"
      ]
    },
    {
      "cell_type": "code",
      "execution_count": null,
      "metadata": {
        "id": "6aFYLs05rFeJ"
      },
      "outputs": [],
      "source": [
        "from keras.preprocessing.image import ImageDataGenerator"
      ]
    },
    {
      "cell_type": "code",
      "execution_count": null,
      "metadata": {
        "id": "5-5LGLMzrVrh"
      },
      "outputs": [],
      "source": [
        "train_gen = ImageDataGenerator(rotation_range = 5, zoom_range = [0.9, 1.2], horizontal_flip = True, height_shift_range = [-5,5], width_shift_range = [-5,5])"
      ]
    },
    {
      "cell_type": "code",
      "execution_count": null,
      "metadata": {
        "id": "epVl2Yifrp0x"
      },
      "outputs": [],
      "source": [
        "train_gen.fit(trainset)"
      ]
    },
    {
      "cell_type": "code",
      "execution_count": null,
      "metadata": {
        "id": "j60hAK_47tOF"
      },
      "outputs": [],
      "source": [
        "input_shape = (150, 150, 3)\n",
        "classes  = 2\n",
        "epochs = 100\n",
        "batch_size = 6"
      ]
    },
    {
      "cell_type": "code",
      "execution_count": null,
      "metadata": {
        "id": "a4yJkOV5pvAs"
      },
      "outputs": [],
      "source": [
        "model = Sequential()\n",
        "model.add(Conv2D(32, (3, 3), input_shape=input_shape))\n",
        "model.add(Activation('relu'))\n",
        "model.add(MaxPooling2D(pool_size=(2, 2)))\n",
        "\n",
        "model.add(Conv2D(32, (3, 3)))\n",
        "model.add(Activation('relu'))\n",
        "model.add(MaxPooling2D(pool_size=(2, 2)))\n",
        "\n",
        "\n",
        "model.add(Conv2D(64,(3,3)))\n",
        "model.add(Activation(\"relu\"))\n",
        "model.add(Conv2D(250,(3,3)))\n",
        "model.add(Activation(\"relu\"))\n",
        "  \n",
        "model.add(Conv2D(128,(3,3)))\n",
        "model.add(Activation(\"relu\"))\n",
        "model.add(AvgPool2D(2,2))\n",
        "model.add(Conv2D(64,(3,3)))\n",
        "model.add(Activation(\"relu\"))\n",
        "model.add(AvgPool2D(2,2))\n",
        "\n",
        "model.add(Conv2D(256,(2,2)))\n",
        "model.add(Activation(\"relu\"))\n",
        "model.add(MaxPool2D(2,2))\n",
        "    \n",
        "model.add(Flatten())\n",
        "model.add(Dense(32))\n",
        "model.add(Dropout(0.25))\n",
        "model.add(Dense(1))\n",
        "model.add(Activation(\"sigmoid\"))"
      ]
    },
    {
      "cell_type": "code",
      "execution_count": null,
      "metadata": {
        "id": "kB0hp09H79vs"
      },
      "outputs": [],
      "source": [
        "model.compile(loss='binary_crossentropy',\n",
        "              optimizer='rmsprop',\n",
        "              metrics=['accuracy'])"
      ]
    }
  ],
  "metadata": {
    "accelerator": "GPU",
    "colab": {
      "name": "lastmodifiedmodelcse465.ipynb",
      "provenance": [],
      "authorship_tag": "ABX9TyM8508snE9LnhOR/+gUaxd3",
      "include_colab_link": true
    },
    "kernelspec": {
      "display_name": "Python 3",
      "name": "python3"
    },
    "language_info": {
      "name": "python"
    }
  },
  "nbformat": 4,
  "nbformat_minor": 0
}